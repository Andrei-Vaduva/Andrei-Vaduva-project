{
 "cells": [
  {
   "cell_type": "markdown",
   "id": "87ccd315",
   "metadata": {},
   "source": [
    "# Data Science Tools and Ecosystem"
   ]
  },
  {
   "cell_type": "markdown",
   "id": "72f20d0b",
   "metadata": {},
   "source": [
    "In this notebook, Data Science Tools and Ecosystem are summarized"
   ]
  },
  {
   "cell_type": "markdown",
   "id": "656875ac",
   "metadata": {},
   "source": [
    "**Objectives:**\n",
    " - Add comments to code cells\n",
    " - Create markdown cells \n",
    " - Add ordered and unordered list to markdown cells \n",
    " - Format content of markdown cells wirh heading style"
   ]
  },
  {
   "cell_type": "code",
   "execution_count": null,
   "id": "03c4ff3a",
   "metadata": {},
   "outputs": [],
   "source": [
    "Some of the popular languages that Data Scientists use are:\n",
    "    1. Python\n",
    "    2. R\n",
    "    3. SQL\n",
    "    4. Scala\n",
    "    5. Java\n",
    "    6. C++\n",
    "    7. Julia\n",
    "    8. Javascript\n",
    "    9. Php\n",
    "    10. GO\n",
    "    11. Ruby\n",
    "    12. Visual Basic"
   ]
  },
  {
   "cell_type": "code",
   "execution_count": null,
   "id": "bd205d92",
   "metadata": {},
   "outputs": [],
   "source": [
    "Some of the commonly used libraries used by Data Scientists include:\n",
    "    1. Pandas\n",
    "    2. Numpy\n",
    "    3. Matplotlib\n",
    "    4. Seaborn\n",
    "    5. Scikit-learn\n",
    "    6. Keras\n",
    "    7. Tensorflow\n",
    "    8. PyTorcj\n",
    "    9. Apache Spark\n",
    "    10. Vegas\n",
    "    11. Big DL\n",
    "    12. Ggplot2"
   ]
  },
  {
   "cell_type": "code",
   "execution_count": null,
   "id": "e40c58f8",
   "metadata": {},
   "outputs": [],
   "source": [
    "## Data Science Tools\n",
    "\n",
    "\"Here's a table summarizing some popular data science tools:\"\n",
    "\n",
    "| Tool             | Description                                                                                          |\n",
    "|------------------|------------------------------------------------------------------------------------------------------|\n",
    "| Jupyter Notebook | Interactive computing environment that supports live code, visualizations, and narrative text.       |\n",
    "| RStudio          | Integrated development environment (IDE) for R, providing tools for data analysis and visualization. |\n",
    "| Anaconda         | Distribution of Python and R programming languages for scientific computing, with package management.|\n",
    "| Tableau          | Data visualization tool that allows users to create interactive and shareable dashboards.            |\n",
    "| Apache Hadoop    | Framework for distributed storage and processing of large datasets, commonly used in big data analytics. |\n",
    "| Apache Spark     | Fast and general-purpose cluster computing system for big data processing and analytics.             |\n",
    "| Excel            | Spreadsheet software commonly used for data analysis, visualization, and reporting.                  |\n",
    "\n",
    "This table provides an overview of various tools utilized in the data science field for tasks such as coding, visualization, and big data processing.\n"
   ]
  },
  {
   "cell_type": "code",
   "execution_count": null,
   "id": "6bd2616c",
   "metadata": {},
   "outputs": [],
   "source": [
    "Below are a few examples of evaluating arithmetic expressions in Python."
   ]
  },
  {
   "cell_type": "code",
   "execution_count": 1,
   "id": "d90b94ec",
   "metadata": {},
   "outputs": [
    {
     "data": {
      "text/plain": [
       "17"
      ]
     },
     "execution_count": 1,
     "metadata": {},
     "output_type": "execute_result"
    }
   ],
   "source": [
    "#This a simple aritmetic expression to mutiply then add integers\n",
    "(3*4)+5"
   ]
  },
  {
   "cell_type": "code",
   "execution_count": 3,
   "id": "8dc08d44",
   "metadata": {},
   "outputs": [
    {
     "data": {
      "text/plain": [
       "3"
      ]
     },
     "execution_count": 3,
     "metadata": {},
     "output_type": "execute_result"
    }
   ],
   "source": [
    "# This will convert 200 minutes to hours by diving by 60\n",
    "200//60"
   ]
  },
  {
   "cell_type": "markdown",
   "id": "39e17df9",
   "metadata": {},
   "source": [
    "## Author \n",
    "Andrei Vaduva"
   ]
  }
 ],
 "metadata": {
  "kernelspec": {
   "display_name": "Python 3 (ipykernel)",
   "language": "python",
   "name": "python3"
  },
  "language_info": {
   "codemirror_mode": {
    "name": "ipython",
    "version": 3
   },
   "file_extension": ".py",
   "mimetype": "text/x-python",
   "name": "python",
   "nbconvert_exporter": "python",
   "pygments_lexer": "ipython3",
   "version": "3.11.5"
  }
 },
 "nbformat": 4,
 "nbformat_minor": 5
}
