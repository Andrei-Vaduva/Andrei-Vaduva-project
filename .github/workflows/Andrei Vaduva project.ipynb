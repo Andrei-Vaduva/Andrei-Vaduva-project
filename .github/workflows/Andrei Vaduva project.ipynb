{
 "cells": [
  {
   "cell_type": "markdown",
   "id": "503d2447",
   "metadata": {},
   "source": [
    "## Andrei Vaduva project"
   ]
  },
  {
   "cell_type": "markdown",
   "id": "72f20d0b",
   "metadata": {},
   "source": [
    "## Introduction to Jupyter Notebooks\n",
    "\n",
    "Welcome to this demonstration of using Jupyter Notebooks! Jupyter Notebooks are an interactive computing environment that allows you to create and share documents containing live code, equations, visualizations, and narrative text.\n",
    "\n",
    "In this notebook, we'll showcase some of the basic features of Jupyter Notebooks, including markdown cells like this one, as well as code cells where we can execute Python code.\n",
    "\n",
    "Let's start exploring the capabilities of Jupyter Notebooks together!\n"
   ]
  },
  {
   "cell_type": "code",
   "execution_count": null,
   "id": "03c4ff3a",
   "metadata": {},
   "outputs": [],
   "source": [
    "## Data Science Languages\n",
    "\n",
    "In the field of data science, various programming languages are commonly used for tasks such as data analysis, machine learning, and data visualization. Some of the prominent languages in data science include:\n",
    "\n",
    "- **Python**: Widely regarded as the go-to language for data science due to its extensive libraries such as Pandas, NumPy, and scikit-learn, which facilitate data manipulation, numerical computing, and machine learning.\n",
    "\n",
    "- **R**: Another popular language specifically designed for statistical analysis and data visualization. R provides a vast array of packages for statistical modeling and graphical representations.\n",
    "\n",
    "- **SQL (Structured Query Language)**: Essential for working with relational databases, SQL is used to query, update, and manage data stored in databases like MySQL, PostgreSQL, and SQLite. It's crucial for data retrieval and data manipulation tasks.\n",
    "\n",
    "- **Julia**: Emerging as a high-performance language for numerical computing and data science, Julia combines the ease of use of Python with the speed of languages like C and Fortran.\n",
    "\n",
    "- **Java**: Although not as commonly associated with data science as Python or R, Java is still utilized in certain data science applications, especially in big data processing and enterprise-level solutions.\n",
    "\n",
    "These languages offer a diverse set of tools and capabilities for data scientists to tackle various challenges in data analysis and modeling.\n"
   ]
  },
  {
   "cell_type": "code",
   "execution_count": null,
   "id": "bd205d92",
   "metadata": {},
   "outputs": [],
   "source": [
    "## Data Science Libraries\n",
    "\n",
    "Data scientists often rely on specialized libraries to perform various tasks efficiently. Here are some commonly used libraries in the data science ecosystem:\n",
    "\n",
    "- **Pandas**: A powerful library for data manipulation and analysis in Python. It provides data structures like DataFrame for handling structured data and offers a wide range of functions for data cleaning, transformation, and exploration.\n",
    "\n",
    "- **NumPy**: Fundamental package for scientific computing in Python. NumPy provides support for large, multi-dimensional arrays and matrices, along with a collection of mathematical functions to operate on these arrays efficiently.\n",
    "\n",
    "- **scikit-learn**: A comprehensive machine learning library in Python that provides simple and efficient tools for data mining and data analysis. It includes various algorithms for classification, regression, clustering, dimensionality reduction, and more.\n",
    "\n",
    "- **TensorFlow and PyTorch**: Deep learning frameworks that allow researchers and practitioners to build and train neural networks efficiently. TensorFlow, developed by Google, and PyTorch, developed by Facebook, are widely used for tasks such as image recognition, natural language processing, and reinforcement learning.\n",
    "\n",
    "- **Matplotlib and Seaborn**: Visualization libraries in Python for creating static, interactive, and statistical plots. Matplotlib offers a wide range of plotting functions and customization options, while Seaborn provides a high-level interface for drawing attractive and informative statistical graphics.\n",
    "\n",
    "- **SciPy**: An open-source library for mathematics, science, and engineering in Python. SciPy builds on top of NumPy and provides additional functionality for optimization, integration, interpolation, linear algebra, and more.\n",
    "\n",
    "These libraries, among others, form the backbone of the data science toolkit, enabling practitioners to analyze data, build models, and derive insights effectively."
   ]
  },
  {
   "cell_type": "code",
   "execution_count": null,
   "id": "e40c58f8",
   "metadata": {},
   "outputs": [],
   "source": [
    "## Data Science Tools\n",
    "\n",
    "\"Here's a table summarizing some popular data science tools:\"\n",
    "\n",
    "| Tool             | Description                                                                                          |\n",
    "|------------------|------------------------------------------------------------------------------------------------------|\n",
    "| Jupyter Notebook | Interactive computing environment that supports live code, visualizations, and narrative text.       |\n",
    "| RStudio          | Integrated development environment (IDE) for R, providing tools for data analysis and visualization. |\n",
    "| Anaconda         | Distribution of Python and R programming languages for scientific computing, with package management.|\n",
    "| Tableau          | Data visualization tool that allows users to create interactive and shareable dashboards.            |\n",
    "| Apache Hadoop    | Framework for distributed storage and processing of large datasets, commonly used in big data analytics. |\n",
    "| Apache Spark     | Fast and general-purpose cluster computing system for big data processing and analytics.             |\n",
    "| Excel            | Spreadsheet software commonly used for data analysis, visualization, and reporting.                  |\n",
    "\n",
    "This table provides an overview of various tools utilized in the data science field for tasks such as coding, visualization, and big data processing.\n"
   ]
  },
  {
   "cell_type": "code",
   "execution_count": null,
   "id": "6bd2616c",
   "metadata": {},
   "outputs": [],
   "source": [
    "## Introduction to Arithmetic Expression Examples\n",
    "\n",
    "Arithmetic expressions are fundamental in mathematics and programming. They involve basic operations such as addition, subtraction, multiplication, and division. In this section, we'll explore some common arithmetic expressions to illustrate how they can be used in calculations.\n",
    "\n",
    "Below are examples of arithmetic expressions:\n",
    "\n",
    "1. **Addition**: Combining two or more numbers to find their total.\n",
    "   Example: `2 + 3 = 5`\n",
    "\n",
    "2. **Subtraction**: Finding the difference between two numbers.\n",
    "   Example: `5 - 3 = 2`\n",
    "\n",
    "3. **Multiplication**: Repeated addition of a number.\n",
    "   Example: `2 * 3 = 6`\n",
    "\n",
    "4. **Division**: Splitting a quantity into equal parts.\n",
    "   Example: `6 / 2 = 3`\n",
    "\n",
    "5. **Exponentiation**: Raising a number to a power.\n",
    "   Example: `2^3 = 8`\n",
    "\n",
    "6. **Modulus**: Finding the remainder after division.\n",
    "   Example: `7 % 3 = 1` (because 7 divided by 3 equals 2 with a remainder of 1)\n",
    "\n",
    "Arithmetic expressions are used extensively in programming to perform calculations and manipulate data. Let's explore these examples further in the subsequent cells.\n"
   ]
  },
  {
   "cell_type": "code",
   "execution_count": 2,
   "id": "d90b94ec",
   "metadata": {},
   "outputs": [
    {
     "name": "stdout",
     "output_type": "stream",
     "text": [
      "Multiplication Result: 20\n",
      "Addition Result: 17\n"
     ]
    }
   ],
   "source": [
    "# Multiply two numbers\n",
    "result_multiply = 4 * 5\n",
    "print(\"Multiplication Result:\", result_multiply)\n",
    "\n",
    "# Add two numbers\n",
    "result_add = 10 + 7\n",
    "print(\"Addition Result:\", result_add)\n"
   ]
  },
  {
   "cell_type": "code",
   "execution_count": 3,
   "id": "8dc08d44",
   "metadata": {},
   "outputs": [
    {
     "name": "stdout",
     "output_type": "stream",
     "text": [
      "950 minutes is equal to 15.833333333333334 hours.\n"
     ]
    }
   ],
   "source": [
    "# Convert minutes to hours\n",
    "minutes = 950\n",
    "hours = minutes / 60\n",
    "print(\"950 minutes is equal to\", hours, \"hours.\")\n"
   ]
  },
  {
   "cell_type": "code",
   "execution_count": null,
   "id": "f3eb56f0",
   "metadata": {},
   "outputs": [],
   "source": [
    "## Objectives\n",
    "\n",
    "In this notebook, we aim to accomplish the following objectives:\n",
    "\n",
    "1. Introduce basic arithmetic expressions and their usage.\n",
    "2. Explore examples of arithmetic operations such as addition, subtraction, multiplication, and division.\n",
    "3. Demonstrate the conversion of units, specifically converting minutes to hours.\n",
    "4. Illustrate the use of Jupyter Notebook features including markdown cells and code cells.\n",
    "5. Provide a hands-on experience with running code cells and observing output.\n",
    "6. Enhance understanding of fundamental concepts in mathematics and programming.\n",
    "\n",
    "Let's proceed to achieve these objectives step by step.\n"
   ]
  },
  {
   "cell_type": "markdown",
   "id": "39e17df9",
   "metadata": {},
   "source": [
    "## Author Andrei Vaduva\n",
    "\n",
    "This notebook was authored by Andrei Vaduva"
   ]
  }
 ],
 "metadata": {
  "kernelspec": {
   "display_name": "Python 3 (ipykernel)",
   "language": "python",
   "name": "python3"
  },
  "language_info": {
   "codemirror_mode": {
    "name": "ipython",
    "version": 3
   },
   "file_extension": ".py",
   "mimetype": "text/x-python",
   "name": "python",
   "nbconvert_exporter": "python",
   "pygments_lexer": "ipython3",
   "version": "3.11.5"
  }
 },
 "nbformat": 4,
 "nbformat_minor": 5
}
